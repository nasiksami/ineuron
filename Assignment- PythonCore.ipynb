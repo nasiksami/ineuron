{
 "cells": [
  {
   "cell_type": "code",
   "execution_count": 1,
   "metadata": {},
   "outputs": [],
   "source": [
    "# my first programme ran successfully "
   ]
  },
  {
   "cell_type": "code",
   "execution_count": 9,
   "metadata": {},
   "outputs": [
    {
     "name": "stdout",
     "output_type": "stream",
     "text": [
      "2030,2065,2100,2135,2170,2205,2240,2275,2310,2345,2380,2415,2450,2485,2520,2555,2590,2625,2660,2695,2730,2765,2800,2835,2870,2905,2940,2975,3010,3045,3080,3115,3150,3185\n"
     ]
    },
    {
     "data": {
      "text/plain": [
       "list"
      ]
     },
     "execution_count": 9,
     "metadata": {},
     "output_type": "execute_result"
    }
   ],
   "source": [
    "''' task 1 ans 2\n",
    "Write a program which will find all such numbers which are divisible by 7 but are not a multiple\n",
    "of 5, between 2000 and 3200 (both included). The numbers obtained should be printed in a\n",
    "comma-separated sequence on a single line.\n",
    "'''\n",
    "\n",
    "y=[]\n",
    "\n",
    "for x in range (2000,3200):\n",
    "    if (x%7==0) & (x%5==0):\n",
    "        y.append(str(x))\n",
    "print (','.join(y))\n",
    "type (y)"
   ]
  },
  {
   "cell_type": "markdown",
   "metadata": {},
   "source": []
  },
  {
   "cell_type": "code",
   "execution_count": 20,
   "metadata": {},
   "outputs": [
    {
     "name": "stdout",
     "output_type": "stream",
     "text": [
      "nasik\n",
      "sami\n",
      "First Name is nasik\n",
      "Last Name is sami\n",
      "Reverse order of the name is sami nasik\n"
     ]
    }
   ],
   "source": [
    "''' task 1 ans 3\n",
    "Write a Python program to accept the user's first and last name and then getting \n",
    "them printed in the the reverse order with a space between first \n",
    "name and last name.\n",
    "'''\n",
    "\n",
    "fname= input ()\n",
    "lname= input ()\n",
    "print ('First Name is',fname)\n",
    "print ('Last Name is', lname)\n",
    "print ('Reverse order of the name is',lname+ '', fname)"
   ]
  },
  {
   "cell_type": "code",
   "execution_count": 31,
   "metadata": {},
   "outputs": [
    {
     "name": "stdout",
     "output_type": "stream",
     "text": [
      "The volume of the sphere is  904.7807999999999\n"
     ]
    }
   ],
   "source": [
    "'''Write a Python program to find the volume of a sphere with diameter 12 cm.\n",
    "Formula: V=4/3 * π * r 3'''\n",
    "\n",
    "d=12\n",
    "r=d/2\n",
    "v=((4/3)*3.1416*(r*r*r))\n",
    "print ( 'The volume of the sphere is ', v)\n"
   ]
  },
  {
   "cell_type": "code",
   "execution_count": 49,
   "metadata": {},
   "outputs": [
    {
     "name": "stdout",
     "output_type": "stream",
     "text": [
      "sdf,sdfg,dfg\n"
     ]
    },
    {
     "data": {
      "text/plain": [
       "['sdf', 'sdfg', 'dfg']"
      ]
     },
     "execution_count": 49,
     "metadata": {},
     "output_type": "execute_result"
    }
   ],
   "source": [
    "'''Task 2:\n",
    "1. Write a program which accepts a sequence of comma-separated numbers \n",
    "from console and generate a list.'''\n",
    "\n",
    "x=input()\n",
    "lists=x.split(',')\n",
    "lists"
   ]
  },
  {
   "cell_type": "code",
   "execution_count": 80,
   "metadata": {},
   "outputs": [
    {
     "name": "stdout",
     "output_type": "stream",
     "text": [
      "* \n",
      "\n",
      "* * \n",
      "\n",
      "* * * \n",
      "\n",
      "* * * * \n",
      "\n",
      "* * * * * \n",
      "\n",
      "* * * * \n",
      "\n",
      "* * * \n",
      "\n",
      "* * \n",
      "\n",
      "* \n",
      "\n"
     ]
    }
   ],
   "source": [
    "#Create the below pattern using nested for loop in Python.\n",
    "\n",
    "\n",
    "for x in range (0,9):\n",
    "    if (x<=4):\n",
    "        for y in range (0,x+1):\n",
    "            print (\"*\", end=\" \")\n",
    "        print(\"\\n\")\n",
    "    else:\n",
    "        for y in range (x,9):\n",
    "            print (\"*\", end=\" \")\n",
    "        print(\"\\n\")"
   ]
  },
  {
   "cell_type": "code",
   "execution_count": 98,
   "metadata": {},
   "outputs": [
    {
     "name": "stdout",
     "output_type": "stream",
     "text": [
      "imas kisan\n",
      "nasik sami\n"
     ]
    }
   ],
   "source": [
    "#Write a Python program to reverse a word after accepting the input from the user.\n",
    "x=input()\n",
    "print(x[::-1])\n"
   ]
  },
  {
   "cell_type": "code",
   "execution_count": 108,
   "metadata": {},
   "outputs": [
    {
     "name": "stdout",
     "output_type": "stream",
     "text": [
      "WE, THE PEOPLE OF INDIA,\n",
      " \t having solemnly resolved to constitute India into a SOVEREIGN, ! \n",
      " \t\t SOCIALIST, SECULAR, DEMOCRATIC REPUBLIC \n",
      "\t\t  and to secure to all its citizens\n"
     ]
    }
   ],
   "source": [
    "'''Write a Python Program to print the given string in the format specified in the sample output.\n",
    "WE, THE PEOPLE OF INDIA, having solemnly resolved to constitute India into a\n",
    "SOVEREIGN, SOCIALIST, SECULAR, DEMOCRATIC REPUBLIC and to secure to all\n",
    "its citizens'''\n",
    "\n",
    "print (\"WE, THE PEOPLE OF INDIA,\\n \\t having solemnly resolved to constitute India into a SOVEREIGN, ! \\n \\t\\t SOCIALIST, SECULAR, DEMOCRATIC REPUBLIC \\n\\t\\t  and to secure to all its citizens\")"
   ]
  },
  {
   "cell_type": "code",
   "execution_count": 106,
   "metadata": {},
   "outputs": [
    {
     "name": "stdout",
     "output_type": "stream",
     "text": [
      "WE, THE PEOPLE OF INDIA,\n",
      "\thaving solemnly resolved to constitute India into a SOVEREIGN,! \n",
      "\t\tSOCIALIST, SECULAR, DEMOCRATIC REPUBLIC \n",
      "\t\t and to secure to all its citizens\n"
     ]
    }
   ],
   "source": [
    "print(\"WE, THE PEOPLE OF INDIA,\\n\\thaving solemnly resolved to constitute India into a SOVEREIGN,! \\n\\t\\tSOCIALIST, SECULAR, DEMOCRATIC REPUBLIC \\n\\t\\t and to secure to all its citizens\")"
   ]
  },
  {
   "cell_type": "code",
   "execution_count": 109,
   "metadata": {},
   "outputs": [
    {
     "name": "stdout",
     "output_type": "stream",
     "text": [
      "WE, THE PEOPLE OF INDIA, having solemnly resolved to constitute India into a SOVEREIGN, SOCIALIST, SECULAR, DEMOCRATIC REPUBLIC and to secure to all its citizens\n"
     ]
    }
   ],
   "source": [
    "print ('WE, THE PEOPLE OF INDIA, having solemnly resolved to constitute India into a SOVEREIGN, SOCIALIST, SECULAR, DEMOCRATIC REPUBLIC and to secure to all its citizens')"
   ]
  }
 ],
 "metadata": {
  "kernelspec": {
   "display_name": "Python 3",
   "language": "python",
   "name": "python3"
  },
  "language_info": {
   "codemirror_mode": {
    "name": "ipython",
    "version": 3
   },
   "file_extension": ".py",
   "mimetype": "text/x-python",
   "name": "python",
   "nbconvert_exporter": "python",
   "pygments_lexer": "ipython3",
   "version": "3.7.4"
  }
 },
 "nbformat": 4,
 "nbformat_minor": 4
}
